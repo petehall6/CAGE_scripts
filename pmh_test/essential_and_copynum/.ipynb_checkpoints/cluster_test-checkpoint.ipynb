{
 "cells": [
  {
   "cell_type": "code",
   "execution_count": 21,
   "id": "9a6ec788-5082-41c2-9c3b-7a004ca0394d",
   "metadata": {},
   "outputs": [
    {
     "name": "stdout",
     "output_type": "stream",
     "text": [
      "(1178, 17917)\n",
      "   Unnamed: 0  A1BG (1)  A1CF (29974)   A2M (2)  A2ML1 (144568)  \\\n",
      "0  ACH-000001 -0.121964      0.042647  0.026102       -0.147614   \n",
      "1  ACH-000004 -0.016484     -0.088500 -0.088198       -0.041225   \n",
      "2  ACH-000005 -0.184847      0.003300  0.160881        0.086224   \n",
      "3  ACH-000007 -0.071921     -0.113717  0.082872        0.099633   \n",
      "4  ACH-000009 -0.019163     -0.134669  0.060323        0.076647   \n",
      "\n",
      "   A3GALT2 (127550)  A4GALT (53947)  A4GNT (51146)  AAAS (8086)  AACS (65985)  \\\n",
      "0         -0.020425        0.184014      -0.076020    -0.097068      0.182759   \n",
      "1         -0.028074       -0.157206       0.280101    -0.106904      0.178125   \n",
      "2         -0.149315       -0.253837       0.167011    -0.101209     -0.129827   \n",
      "3         -0.008378       -0.022310       0.014416    -0.184977     -0.173739   \n",
      "4          0.078922       -0.100243       0.047559    -0.136988      0.037759   \n",
      "\n",
      "   ...  ZWILCH (55055)  ZWINT (11130)  ZXDA (7789)  ZXDB (158586)  \\\n",
      "0  ...       -0.120536       0.107286     0.166390       0.262275   \n",
      "1  ...       -0.192527      -0.324059     0.230377       0.087609   \n",
      "2  ...       -0.312827      -0.338023    -0.039700      -0.055349   \n",
      "3  ...       -0.334843      -0.355499    -0.014183       0.230944   \n",
      "4  ...       -0.299593      -0.194427    -0.027365       0.236591   \n",
      "\n",
      "   ZXDC (79364)  ZYG11A (440590)  ZYG11B (79699)  ZYX (7791)  ZZEF1 (23140)  \\\n",
      "0      0.163876        -0.249508        0.053725    0.067986       0.136285   \n",
      "1      0.074897         0.054335       -0.330343    0.099067       0.274566   \n",
      "2     -0.000367        -0.205605       -0.066032   -0.054518       0.035579   \n",
      "3      0.044628        -0.081863       -0.390748   -0.036547      -0.273129   \n",
      "4     -0.084224        -0.098271       -0.510495    0.052938       0.018623   \n",
      "\n",
      "   ZZZ3 (26009)  \n",
      "0     -0.438536  \n",
      "1      0.001871  \n",
      "2     -0.150486  \n",
      "3     -0.382723  \n",
      "4     -0.258353  \n",
      "\n",
      "[5 rows x 17917 columns]\n"
     ]
    }
   ],
   "source": [
    "import pandas as pd\n",
    "import numpy as np\n",
    "import re\n",
    "\n",
    "#Read in new essentiatllity csv and convert to hdf.  Need to set index to DepMap_ID to match current data set\n",
    "\n",
    "new_df = pd.read_csv(\"CRISPRGeneEffect.csv\")\n",
    "new_df.rename(columns={new_df.columns[0]: \"DepMap_ID\"},inplace=True)\n",
    "new_df.set_index('DepMap_ID',inplace=True)\n",
    "\n",
    "new_df.to_hdf(\"processed_ess_data_updated.h5\", 'ess_df', mode='w')"
   ]
  },
  {
   "cell_type": "code",
   "execution_count": 55,
   "id": "df238c44-dc8b-449a-9538-a47da4bcc9ba",
   "metadata": {},
   "outputs": [
    {
     "name": "stdout",
     "output_type": "stream",
     "text": [
      "(990, 16383)\n",
      "(990, 16383)\n"
     ]
    }
   ],
   "source": [
    "curr_df = pd.read_hdf(\"processed_ess_data_current.h5\",\"ess_df\")\n",
    "\n",
    "print(f\"{curr_df.shape}\")\n",
    "curr_df.drop_duplicates(inplace=True)\n",
    "print(f\"{curr_df.shape}\")\n"
   ]
  },
  {
   "cell_type": "code",
   "execution_count": 56,
   "id": "9bae98d9-ef67-438f-9bec-1c315d47750c",
   "metadata": {},
   "outputs": [
    {
     "name": "stdout",
     "output_type": "stream",
     "text": [
      "curr_genes: 990\n",
      "New cell lines: 2120\n",
      "New genes: 208\n"
     ]
    }
   ],
   "source": [
    "curr_cell_line= curr_df.columns\n",
    "updated_cell_line = new_df.columns\n",
    "\n",
    "curr_genes = curr_df.index\n",
    "updated_genes = new_df.index\n",
    "\n",
    "print(f\"curr_genes: {len(curr_genes)}\")\n",
    "\n",
    "diff_cell_lines = list(set(updated_cell_line) - set(curr_cell_line))\n",
    "diff_genes = list(set(updated_genes) - set(curr_genes))\n",
    "\n",
    "print(f\"New cell lines: {len(diff_cell_lines)}\")\n",
    "print(f\"New genes: {len(diff_genes)}\")"
   ]
  },
  {
   "cell_type": "code",
   "execution_count": 38,
   "id": "95133b24-7574-498b-8352-2429c78fb1f9",
   "metadata": {},
   "outputs": [
    {
     "name": "stdout",
     "output_type": "stream",
     "text": [
      "(1178, 17916)\n",
      "(975, 16383)\n"
     ]
    }
   ],
   "source": [
    "print(new_df.shape)\n",
    "print(curr_df.shape)"
   ]
  },
  {
   "cell_type": "code",
   "execution_count": 39,
   "id": "a2e48bed-c659-41a8-a764-e8c57b8b15f4",
   "metadata": {},
   "outputs": [
    {
     "data": {
      "text/plain": [
       "array([ 203, 1533])"
      ]
     },
     "execution_count": 39,
     "metadata": {},
     "output_type": "execute_result"
    }
   ],
   "source": [
    "np.array(new_df.shape) - np.array(curr_df.shape)\n"
   ]
  },
  {
   "cell_type": "code",
   "execution_count": null,
   "id": "a736ce5c-0568-4817-beef-71be71bf30d8",
   "metadata": {},
   "outputs": [],
   "source": []
  }
 ],
 "metadata": {
  "kernelspec": {
   "display_name": "Python 3 (ipykernel)",
   "language": "python",
   "name": "python3"
  },
  "language_info": {
   "codemirror_mode": {
    "name": "ipython",
    "version": 3
   },
   "file_extension": ".py",
   "mimetype": "text/x-python",
   "name": "python",
   "nbconvert_exporter": "python",
   "pygments_lexer": "ipython3",
   "version": "3.8.18"
  }
 },
 "nbformat": 4,
 "nbformat_minor": 5
}
