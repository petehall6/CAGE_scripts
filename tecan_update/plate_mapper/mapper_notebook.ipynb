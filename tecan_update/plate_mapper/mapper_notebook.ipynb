{
 "cells": [
  {
   "cell_type": "markdown",
   "metadata": {},
   "source": [
    "# Plate Mapper\n",
    "Reads input excel file and calculates number of reactions"
   ]
  },
  {
   "cell_type": "code",
   "execution_count": 15,
   "metadata": {},
   "outputs": [
    {
     "name": "stdout",
     "output_type": "stream",
     "text": [
      "    Sample  Volume  Concentration nanograms  Coverage  number of guides  ug DNA have  ug of DNA needed  sample_rxn_vol  water_dilution  number of reactions  empty reactions\n",
      "1  control     150                     1500       400              5000       225.00              12.0             6.7            18.3                    1                1\n",
      "2    test1     250                      100       400              5000        25.00              12.0            25.0             0.0                    5                1\n",
      "3    test2     175                      450       400              5000        78.75              12.0            22.2             2.8                    2                0\n",
      "4    test3     300                      150       400              5000        45.00              12.0            25.0             0.0                    4                0\n",
      "5    test4    8000                       25       400              5000       200.00              12.0            25.0             0.0                   20                0\n"
     ]
    }
   ],
   "source": [
    "# Import the necessary libraries, including os and pandas\n",
    "import os\n",
    "import pandas as pd\n",
    "import math\n",
    "\n",
    "pd.set_option('display.width', 1000)\n",
    "\n",
    "def mapped_reactions(reactions):\n",
    "    \n",
    "    if reactions % 2 == 0:\n",
    "        return 0\n",
    "    else:\n",
    "        return 1\n",
    "\n",
    "def uL_for_10ug(ng_concentration):\n",
    "    ug_concen= ng_concentration / 1000\n",
    "    \n",
    "    max_sample_limit = round(10/ug_concen,1)\n",
    "    \n",
    "    if max_sample_limit > 25:\n",
    "        max_sample_limit = 25\n",
    "    \n",
    "    return max_sample_limit\n",
    "\n",
    "# Load the Excel file 'input.xlsx' into a DataFrame\n",
    "input_df = pd.read_excel('input.xlsx', engine='openpyxl')\n",
    "\n",
    "input_df.index =input_df.index + 1\n",
    "\n",
    "input_df['ug DNA have'] = input_df['Volume'] * (input_df['Concentration nanograms'] / 1000)\n",
    "\n",
    "input_df['ug of DNA needed'] = (input_df['number of guides'].astype(float) * 0.006 * input_df['Coverage']) / 1000\n",
    "\n",
    "#limit each reaction to 10ug of DNA max\n",
    "input_df['sample_rxn_vol'] = input_df['Concentration nanograms'].apply(uL_for_10ug)\n",
    "\n",
    "#Calculate water dilution if needed\n",
    "input_df['water_dilution'] = 25 - input_df['sample_rxn_vol']\n",
    "\n",
    "#Round up to nearest whole number\n",
    "input_df['number of reactions'] = (((input_df['ug of DNA needed'] / input_df['ug DNA have']) * input_df['Volume']) /25).apply(lambda x: math.ceil(x))\n",
    "\n",
    "#Add addtional reaction to odd numbers so that plate maps are evenly spaced\n",
    "input_df['empty reactions'] = input_df['number of reactions'].apply(mapped_reactions)\n",
    "\n",
    "\n",
    "print(input_df)\n",
    "\n",
    "#has the extra reaction\n",
    "rxn_df = input_df[['Sample','number of reactions', 'empty reactions']].copy()\n",
    "\n",
    "\n",
    "rxn_list = rxn_df.values.tolist()"
   ]
  },
  {
   "cell_type": "markdown",
   "metadata": {},
   "source": [
    "Create master list of samples and reactions to be formatted into map.  Create 'empty' spacers during this step"
   ]
  },
  {
   "cell_type": "code",
   "execution_count": 16,
   "metadata": {},
   "outputs": [
    {
     "name": "stdout",
     "output_type": "stream",
     "text": [
      "[['control', 1, 1], ['test1', 5, 1], ['test2', 2, 0], ['test3', 4, 0], ['test4', 20, 0]]\n",
      "['control', 'empty', 'test1', 'test1', 'test1', 'test1', 'test1', 'empty', 'test2', 'test2', 'test3', 'test3', 'test3', 'test3', 'test4', 'test4', 'test4', 'test4', 'test4', 'test4', 'test4', 'test4', 'test4', 'test4', 'test4', 'test4', 'test4', 'test4', 'test4', 'test4', 'test4', 'test4', 'test4', 'test4']\n"
     ]
    }
   ],
   "source": [
    "print(rxn_list)\n",
    "\n",
    "sample_rxn_list = []\n",
    "for sample in rxn_list:\n",
    "    for rxn in range(sample[1]):\n",
    "        sample_rxn_list.append(sample[0])\n",
    "    if sample[2] == 1:\n",
    "        sample_rxn_list.append('empty')\n",
    "\n",
    "print(sample_rxn_list)"
   ]
  },
  {
   "cell_type": "markdown",
   "metadata": {},
   "source": [
    "Map wells to sample names"
   ]
  },
  {
   "cell_type": "code",
   "execution_count": 17,
   "metadata": {},
   "outputs": [
    {
     "name": "stdout",
     "output_type": "stream",
     "text": [
      "{'A1': 'control', 'A2': 'empty', 'A3': 'test1', 'A4': 'test1', 'A5': 'test1', 'A6': 'test1', 'A7': 'test1', 'A8': 'empty', 'A9': 'test2', 'A10': 'test2', 'A11': 'test3', 'A12': 'test3', 'B1': 'test3', 'B2': 'test3', 'B3': 'test4', 'B4': 'test4', 'B5': 'test4', 'B6': 'test4', 'B7': 'test4', 'B8': 'test4', 'B9': 'test4', 'B10': 'test4', 'B11': 'test4', 'B12': 'test4', 'C1': 'test4', 'C2': 'test4', 'C3': 'test4', 'C4': 'test4', 'C5': 'test4', 'C6': 'test4', 'C7': 'test4', 'C8': 'test4', 'C9': 'test4', 'C10': 'test4', 'C11': 'empty', 'C12': 'empty', 'D1': 'empty', 'D2': 'empty', 'D3': 'empty', 'D4': 'empty', 'D5': 'empty', 'D6': 'empty', 'D7': 'empty', 'D8': 'empty', 'D9': 'empty', 'D10': 'empty', 'D11': 'empty', 'D12': 'empty', 'E1': 'empty', 'E2': 'empty', 'E3': 'empty', 'E4': 'empty', 'E5': 'empty', 'E6': 'empty', 'E7': 'empty', 'E8': 'empty', 'E9': 'empty', 'E10': 'empty', 'E11': 'empty', 'E12': 'empty', 'F1': 'empty', 'F2': 'empty', 'F3': 'empty', 'F4': 'empty', 'F5': 'empty', 'F6': 'empty', 'F7': 'empty', 'F8': 'empty', 'F9': 'empty', 'F10': 'empty', 'F11': 'empty', 'F12': 'empty', 'G1': 'empty', 'G2': 'empty', 'G3': 'empty', 'G4': 'empty', 'G5': 'empty', 'G6': 'empty', 'G7': 'empty', 'G8': 'empty', 'G9': 'empty', 'G10': 'empty', 'G11': 'empty', 'G12': 'empty', 'H1': 'empty', 'H2': 'empty', 'H3': 'empty', 'H4': 'empty', 'H5': 'empty', 'H6': 'empty', 'H7': 'empty', 'H8': 'empty', 'H9': 'empty', 'H10': 'empty', 'H11': 'empty', 'H12': 'empty'}\n"
     ]
    }
   ],
   "source": [
    "well_cols = list(range(1,13))\n",
    "\n",
    "\n",
    "well_rows = ['A','B','C','D','E','F','G','H']\n",
    "\n",
    "well_dict = {}\n",
    "\n",
    "for row in well_rows:\n",
    "    for col in well_cols:\n",
    "        well_dict[row + str(col)] ='empty'\n",
    "\n",
    "\n",
    "for i, well in enumerate(well_dict):\n",
    "    try:\n",
    "        well_dict[well] = sample_rxn_list[i]\n",
    "    except:\n",
    "        well_dict[well] = 'empty'\n",
    "\n",
    "print(well_dict)\n"
   ]
  },
  {
   "cell_type": "markdown",
   "metadata": {},
   "source": [
    "Create a dict of row specific lists then split each sample based on well_dict.key into specific row list"
   ]
  },
  {
   "cell_type": "code",
   "execution_count": 30,
   "metadata": {},
   "outputs": [
    {
     "ename": "KeyboardInterrupt",
     "evalue": "Interrupted by user",
     "output_type": "error",
     "traceback": [
      "\u001b[1;31m---------------------------------------------------------------------------\u001b[0m",
      "\u001b[1;31mKeyboardInterrupt\u001b[0m                         Traceback (most recent call last)",
      "\u001b[1;32m~\\AppData\\Local\\Temp\\ipykernel_18604\\142946556.py\u001b[0m in \u001b[0;36m<module>\u001b[1;34m\u001b[0m\n\u001b[0;32m      3\u001b[0m \u001b[1;33m\u001b[0m\u001b[0m\n\u001b[0;32m      4\u001b[0m \u001b[1;32mfor\u001b[0m \u001b[0mwell\u001b[0m \u001b[1;32min\u001b[0m \u001b[0mwell_dict\u001b[0m\u001b[1;33m.\u001b[0m\u001b[0mitems\u001b[0m\u001b[1;33m(\u001b[0m\u001b[1;33m)\u001b[0m\u001b[1;33m:\u001b[0m\u001b[1;33m\u001b[0m\u001b[1;33m\u001b[0m\u001b[0m\n\u001b[1;32m----> 5\u001b[1;33m     \u001b[0minput\u001b[0m\u001b[1;33m(\u001b[0m\u001b[0mwell\u001b[0m\u001b[1;33m)\u001b[0m\u001b[1;33m\u001b[0m\u001b[1;33m\u001b[0m\u001b[0m\n\u001b[0m\u001b[0;32m      6\u001b[0m \u001b[1;33m\u001b[0m\u001b[0m\n\u001b[0;32m      7\u001b[0m \u001b[1;31m#filling the rows with the well_dict values\u001b[0m\u001b[1;33m\u001b[0m\u001b[1;33m\u001b[0m\u001b[1;33m\u001b[0m\u001b[0m\n",
      "\u001b[1;32mc:\\Users\\phall3\\Anaconda3\\envs\\cage37\\lib\\site-packages\\ipykernel\\kernelbase.py\u001b[0m in \u001b[0;36mraw_input\u001b[1;34m(self, prompt)\u001b[0m\n\u001b[0;32m   1179\u001b[0m             \u001b[0mself\u001b[0m\u001b[1;33m.\u001b[0m\u001b[0m_parent_ident\u001b[0m\u001b[1;33m[\u001b[0m\u001b[1;34m\"shell\"\u001b[0m\u001b[1;33m]\u001b[0m\u001b[1;33m,\u001b[0m\u001b[1;33m\u001b[0m\u001b[1;33m\u001b[0m\u001b[0m\n\u001b[0;32m   1180\u001b[0m             \u001b[0mself\u001b[0m\u001b[1;33m.\u001b[0m\u001b[0mget_parent\u001b[0m\u001b[1;33m(\u001b[0m\u001b[1;34m\"shell\"\u001b[0m\u001b[1;33m)\u001b[0m\u001b[1;33m,\u001b[0m\u001b[1;33m\u001b[0m\u001b[1;33m\u001b[0m\u001b[0m\n\u001b[1;32m-> 1181\u001b[1;33m             \u001b[0mpassword\u001b[0m\u001b[1;33m=\u001b[0m\u001b[1;32mFalse\u001b[0m\u001b[1;33m,\u001b[0m\u001b[1;33m\u001b[0m\u001b[1;33m\u001b[0m\u001b[0m\n\u001b[0m\u001b[0;32m   1182\u001b[0m         )\n\u001b[0;32m   1183\u001b[0m \u001b[1;33m\u001b[0m\u001b[0m\n",
      "\u001b[1;32mc:\\Users\\phall3\\Anaconda3\\envs\\cage37\\lib\\site-packages\\ipykernel\\kernelbase.py\u001b[0m in \u001b[0;36m_input_request\u001b[1;34m(self, prompt, ident, parent, password)\u001b[0m\n\u001b[0;32m   1217\u001b[0m             \u001b[1;32mexcept\u001b[0m \u001b[0mKeyboardInterrupt\u001b[0m\u001b[1;33m:\u001b[0m\u001b[1;33m\u001b[0m\u001b[1;33m\u001b[0m\u001b[0m\n\u001b[0;32m   1218\u001b[0m                 \u001b[1;31m# re-raise KeyboardInterrupt, to truncate traceback\u001b[0m\u001b[1;33m\u001b[0m\u001b[1;33m\u001b[0m\u001b[1;33m\u001b[0m\u001b[0m\n\u001b[1;32m-> 1219\u001b[1;33m                 \u001b[1;32mraise\u001b[0m \u001b[0mKeyboardInterrupt\u001b[0m\u001b[1;33m(\u001b[0m\u001b[1;34m\"Interrupted by user\"\u001b[0m\u001b[1;33m)\u001b[0m \u001b[1;32mfrom\u001b[0m \u001b[1;32mNone\u001b[0m\u001b[1;33m\u001b[0m\u001b[1;33m\u001b[0m\u001b[0m\n\u001b[0m\u001b[0;32m   1220\u001b[0m             \u001b[1;32mexcept\u001b[0m \u001b[0mException\u001b[0m\u001b[1;33m:\u001b[0m\u001b[1;33m\u001b[0m\u001b[1;33m\u001b[0m\u001b[0m\n\u001b[0;32m   1221\u001b[0m                 \u001b[0mself\u001b[0m\u001b[1;33m.\u001b[0m\u001b[0mlog\u001b[0m\u001b[1;33m.\u001b[0m\u001b[0mwarning\u001b[0m\u001b[1;33m(\u001b[0m\u001b[1;34m\"Invalid Message:\"\u001b[0m\u001b[1;33m,\u001b[0m \u001b[0mexc_info\u001b[0m\u001b[1;33m=\u001b[0m\u001b[1;32mTrue\u001b[0m\u001b[1;33m)\u001b[0m\u001b[1;33m\u001b[0m\u001b[1;33m\u001b[0m\u001b[0m\n",
      "\u001b[1;31mKeyboardInterrupt\u001b[0m: Interrupted by user"
     ]
    }
   ],
   "source": [
    "rows_dict = {'A':[],'B':[],'C':[],'D':[],'E':[],'F':[],'G':[],'H':[]}\n",
    "\n",
    "\n",
    "#filling the rows with the well_dict values\n",
    "for well in well_dict.items():\n",
    "    for row in rows_dict.items():\n",
    "        #checkes first letter of well and row\n",
    "        if well[0][0] == row[0]:\n",
    "            row[1].append(well[1])\n",
    "            \n",
    "#converting the dict to a dataframe\n",
    "plate_layout = pd.DataFrame(rows_dict)\n",
    "#transposing the dataframe, going from long to wide\n",
    "plate_layout = plate_layout.T\n",
    "\n",
    "#renumber columns to match plate\n",
    "plate_layout.columns = list(range(1,13))\n",
    "\n",
    "print(plate_layout)\n",
    "\n",
    "plate_layout.to_excel('plate_layout.xlsx', engine='openpyxl')"
   ]
  }
 ],
 "metadata": {
  "kernelspec": {
   "display_name": "cage37",
   "language": "python",
   "name": "python3"
  },
  "language_info": {
   "codemirror_mode": {
    "name": "ipython",
    "version": 3
   },
   "file_extension": ".py",
   "mimetype": "text/x-python",
   "name": "python",
   "nbconvert_exporter": "python",
   "pygments_lexer": "ipython3",
   "version": "3.7.7"
  }
 },
 "nbformat": 4,
 "nbformat_minor": 2
}
