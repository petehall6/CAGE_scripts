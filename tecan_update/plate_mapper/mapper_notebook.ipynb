{
 "cells": [
  {
   "cell_type": "markdown",
   "metadata": {},
   "source": [
    "# Plate Mapper\n",
    "Reads input excel file and calculates number of reactions"
   ]
  },
  {
   "cell_type": "code",
   "execution_count": null,
   "metadata": {},
   "outputs": [
    {
     "ename": "ValueError",
     "evalue": "The truth value of a Series is ambiguous. Use a.empty, a.bool(), a.item(), a.any() or a.all().",
     "output_type": "error",
     "traceback": [
      "\u001b[1;31m---------------------------------------------------------------------------\u001b[0m",
      "\u001b[1;31mValueError\u001b[0m                                Traceback (most recent call last)",
      "\u001b[1;32m~\\AppData\\Local\\Temp\\ipykernel_19708\\1806149770.py\u001b[0m in \u001b[0;36m<module>\u001b[1;34m\u001b[0m\n\u001b[0;32m     27\u001b[0m \u001b[1;31m#TODO\u001b[0m\u001b[1;33m\u001b[0m\u001b[1;33m\u001b[0m\u001b[1;33m\u001b[0m\u001b[0m\n\u001b[0;32m     28\u001b[0m \u001b[1;31m#Will need to limit each reaction to 10ug/rxn then find minimum number of reactions to reach desired coverage\u001b[0m\u001b[1;33m\u001b[0m\u001b[1;33m\u001b[0m\u001b[1;33m\u001b[0m\u001b[0m\n\u001b[1;32m---> 29\u001b[1;33m \u001b[0minput_df\u001b[0m\u001b[1;33m[\u001b[0m\u001b[1;34m'10ug_limit'\u001b[0m\u001b[1;33m]\u001b[0m \u001b[1;33m=\u001b[0m \u001b[0mround\u001b[0m\u001b[1;33m(\u001b[0m\u001b[0mmin\u001b[0m\u001b[1;33m(\u001b[0m\u001b[1;36m10000\u001b[0m\u001b[1;33m/\u001b[0m\u001b[0minput_df\u001b[0m\u001b[1;33m[\u001b[0m\u001b[1;34m'Concentration nanograms'\u001b[0m\u001b[1;33m]\u001b[0m\u001b[1;33m,\u001b[0m \u001b[1;36m25.0\u001b[0m\u001b[1;33m)\u001b[0m\u001b[1;33m,\u001b[0m \u001b[1;36m1\u001b[0m\u001b[1;33m)\u001b[0m\u001b[1;33m\u001b[0m\u001b[1;33m\u001b[0m\u001b[0m\n\u001b[0m\u001b[0;32m     30\u001b[0m \u001b[1;33m\u001b[0m\u001b[0m\n\u001b[0;32m     31\u001b[0m \u001b[1;31m#round(min(10000/ng_per_uL, 25.0), 1)\u001b[0m\u001b[1;33m\u001b[0m\u001b[1;33m\u001b[0m\u001b[1;33m\u001b[0m\u001b[0m\n",
      "\u001b[1;32mc:\\Users\\phall3\\Anaconda3\\envs\\cage37\\lib\\site-packages\\pandas\\core\\generic.py\u001b[0m in \u001b[0;36m__nonzero__\u001b[1;34m(self)\u001b[0m\n\u001b[0;32m   1536\u001b[0m     \u001b[1;32mdef\u001b[0m \u001b[0m__nonzero__\u001b[0m\u001b[1;33m(\u001b[0m\u001b[0mself\u001b[0m\u001b[1;33m)\u001b[0m\u001b[1;33m:\u001b[0m\u001b[1;33m\u001b[0m\u001b[1;33m\u001b[0m\u001b[0m\n\u001b[0;32m   1537\u001b[0m         raise ValueError(\n\u001b[1;32m-> 1538\u001b[1;33m             \u001b[1;34mf\"The truth value of a {type(self).__name__} is ambiguous. \"\u001b[0m\u001b[1;33m\u001b[0m\u001b[1;33m\u001b[0m\u001b[0m\n\u001b[0m\u001b[0;32m   1539\u001b[0m             \u001b[1;34m\"Use a.empty, a.bool(), a.item(), a.any() or a.all().\"\u001b[0m\u001b[1;33m\u001b[0m\u001b[1;33m\u001b[0m\u001b[0m\n\u001b[0;32m   1540\u001b[0m         )\n",
      "\u001b[1;31mValueError\u001b[0m: The truth value of a Series is ambiguous. Use a.empty, a.bool(), a.item(), a.any() or a.all()."
     ]
    }
   ],
   "source": [
    "# Import the necessary libraries, including os and pandas\n",
    "import os\n",
    "import pandas as pd\n",
    "import math\n",
    "\n",
    "def mapped_reactions(reactions):\n",
    "    \n",
    "    if reactions % 2 == 0:\n",
    "        return 0\n",
    "    else:\n",
    "        return 1\n",
    "\n",
    "\n",
    "def uL_for_10ug(ng_per_uL):\n",
    "    ul_limit = round(min(10000/ng_per_uL, 25.0), 1)\n",
    "    return ul_limit\n",
    "\n",
    "# Load the Excel file 'input.xlsx' into a DataFrame\n",
    "input_df = pd.read_excel('input.xlsx', engine='openpyxl')\n",
    "\n",
    "input_df.index =input_df.index + 1\n",
    "\n",
    "#Calculate amount of DNA in sample\n",
    "input_df['DNA ug'] = input_df['Volume'] * (input_df['Concentration nanograms'] / 1000)\n",
    "\n",
    "#Calculate coverage\n",
    "input_df['ug of DNA needed'] = (input_df['number of guides'].astype(float) * 0.006 * input_df['Coverage']) / 1000\n",
    "\n",
    "\n",
    "#TODO\n",
    "#Will need to limit each reaction to 10ug/rxn then find minimum number of reactions to reach desired coverage\n",
    "input_df['10ug_limit'] = input_df['Concentration nanograms'].apply(uL_for_10ug)\n",
    "\n",
    "#round(min(10000/ng_per_uL, 25.0), 1)\n",
    "\n",
    "\n",
    "#Round up to nearest whole number\n",
    "input_df['number of reactions'] = (((input_df['Volume'] * input_df['Concentration nanograms']) / 1000 ) / input_df['ug of DNA needed']).apply(lambda x: math.ceil(x))\n",
    "\n",
    "#Add addtional reaction to odd numbers so that plate maps are evenly spaced\n",
    "input_df['empty reactions'] = input_df['number of reactions'].apply(mapped_reactions)\n",
    "\n",
    "print(input_df)\n",
    "\n",
    "\n",
    "\n",
    "#has the extra reaction\n",
    "rxn_df = input_df[['Sample','number of reactions', 'empty reactions']].copy()\n",
    "\n",
    "\n",
    "rxn_list = rxn_df.values.tolist()\n",
    "\n",
    "\n"
   ]
  },
  {
   "cell_type": "markdown",
   "metadata": {},
   "source": [
    "Create master list of samples and reactions to be formatted into map.  Create 'empty' spacers during this step"
   ]
  },
  {
   "cell_type": "code",
   "execution_count": 133,
   "metadata": {},
   "outputs": [
    {
     "name": "stdout",
     "output_type": "stream",
     "text": [
      "[['control', 5, 1], ['test1', 5, 1], ['test2', 6, 0], ['test3', 4, 0], ['test4', 4, 0]]\n",
      "['control', 'control', 'control', 'control', 'control', 'empty', 'test1', 'test1', 'test1', 'test1', 'test1', 'empty', 'test2', 'test2', 'test2', 'test2', 'test2', 'test2', 'test3', 'test3', 'test3', 'test3', 'test4', 'test4', 'test4', 'test4']\n"
     ]
    }
   ],
   "source": [
    "print(rxn_list)\n",
    "\n",
    "sample_rxn_list = []\n",
    "for sample in rxn_list:\n",
    "    for rxn in range(sample[1]):\n",
    "        sample_rxn_list.append(sample[0])\n",
    "    if sample[2] == 1:\n",
    "        sample_rxn_list.append('empty')\n",
    "\n",
    "print(sample_rxn_list)"
   ]
  },
  {
   "cell_type": "markdown",
   "metadata": {},
   "source": [
    "Map wells to sample names"
   ]
  },
  {
   "cell_type": "code",
   "execution_count": 134,
   "metadata": {},
   "outputs": [
    {
     "name": "stdout",
     "output_type": "stream",
     "text": [
      "{'A1': 'control', 'A2': 'control', 'A3': 'control', 'A4': 'control', 'A5': 'control', 'A6': 'empty', 'A7': 'test1', 'A8': 'test1', 'A9': 'test1', 'A10': 'test1', 'A11': 'test1', 'A12': 'empty', 'B1': 'test2', 'B2': 'test2', 'B3': 'test2', 'B4': 'test2', 'B5': 'test2', 'B6': 'test2', 'B7': 'test3', 'B8': 'test3', 'B9': 'test3', 'B10': 'test3', 'B11': 'test4', 'B12': 'test4', 'C1': 'test4', 'C2': 'test4', 'C3': 'empty', 'C4': 'empty', 'C5': 'empty', 'C6': 'empty', 'C7': 'empty', 'C8': 'empty', 'C9': 'empty', 'C10': 'empty', 'C11': 'empty', 'C12': 'empty', 'D1': 'empty', 'D2': 'empty', 'D3': 'empty', 'D4': 'empty', 'D5': 'empty', 'D6': 'empty', 'D7': 'empty', 'D8': 'empty', 'D9': 'empty', 'D10': 'empty', 'D11': 'empty', 'D12': 'empty', 'E1': 'empty', 'E2': 'empty', 'E3': 'empty', 'E4': 'empty', 'E5': 'empty', 'E6': 'empty', 'E7': 'empty', 'E8': 'empty', 'E9': 'empty', 'E10': 'empty', 'E11': 'empty', 'E12': 'empty', 'F1': 'empty', 'F2': 'empty', 'F3': 'empty', 'F4': 'empty', 'F5': 'empty', 'F6': 'empty', 'F7': 'empty', 'F8': 'empty', 'F9': 'empty', 'F10': 'empty', 'F11': 'empty', 'F12': 'empty', 'G1': 'empty', 'G2': 'empty', 'G3': 'empty', 'G4': 'empty', 'G5': 'empty', 'G6': 'empty', 'G7': 'empty', 'G8': 'empty', 'G9': 'empty', 'G10': 'empty', 'G11': 'empty', 'G12': 'empty', 'H1': 'empty', 'H2': 'empty', 'H3': 'empty', 'H4': 'empty', 'H5': 'empty', 'H6': 'empty', 'H7': 'empty', 'H8': 'empty', 'H9': 'empty', 'H10': 'empty', 'H11': 'empty', 'H12': 'empty'}\n"
     ]
    }
   ],
   "source": [
    "well_cols = list(range(1,13))\n",
    "well_rows = ['A','B','C','D','E','F','G','H']\n",
    "\n",
    "well_dict = {}\n",
    "\n",
    "for row in well_rows:\n",
    "    for col in well_cols:\n",
    "        well_dict[row + str(col)] ='empty'\n",
    "\n",
    "\n",
    "for i, well in enumerate(well_dict):\n",
    "    try:\n",
    "        well_dict[well] = sample_rxn_list[i]\n",
    "    except:\n",
    "        well_dict[well] = 'empty'\n",
    "\n",
    "print(well_dict)\n",
    "\n"
   ]
  },
  {
   "cell_type": "markdown",
   "metadata": {},
   "source": [
    "Create a dict of row specific lists then split each sample based on well_dict.key into specific row list"
   ]
  },
  {
   "cell_type": "code",
   "execution_count": 136,
   "metadata": {},
   "outputs": [
    {
     "name": "stdout",
     "output_type": "stream",
     "text": [
      "        1        2        3        4        5      6      7      8      9   \\\n",
      "A  control  control  control  control  control  empty  test1  test1  test1   \n",
      "B    test2    test2    test2    test2    test2  test2  test3  test3  test3   \n",
      "C    test4    test4    empty    empty    empty  empty  empty  empty  empty   \n",
      "D    empty    empty    empty    empty    empty  empty  empty  empty  empty   \n",
      "E    empty    empty    empty    empty    empty  empty  empty  empty  empty   \n",
      "F    empty    empty    empty    empty    empty  empty  empty  empty  empty   \n",
      "G    empty    empty    empty    empty    empty  empty  empty  empty  empty   \n",
      "H    empty    empty    empty    empty    empty  empty  empty  empty  empty   \n",
      "\n",
      "      10     11     12  \n",
      "A  test1  test1  empty  \n",
      "B  test3  test4  test4  \n",
      "C  empty  empty  empty  \n",
      "D  empty  empty  empty  \n",
      "E  empty  empty  empty  \n",
      "F  empty  empty  empty  \n",
      "G  empty  empty  empty  \n",
      "H  empty  empty  empty  \n"
     ]
    }
   ],
   "source": [
    "rows_dict = {}\n",
    "#generating a dict of rows ord() returns the unicode value of a character, chr() returns the character of a unicode value\n",
    "for i in range(ord('A'), ord('I')):\n",
    "    row = chr(i)\n",
    "    rows_dict[row] = []\n",
    "    \n",
    "#filling the rows with the well_dict values\n",
    "for well in well_dict.items():\n",
    "    for row in rows_dict.items():\n",
    "        if well[0][0] == row[0]:\n",
    "            row[1].append(well[1])\n",
    "            \n",
    "#converting the dict to a dataframe\n",
    "plate_layout = pd.DataFrame(rows_dict)\n",
    "#transposing the dataframe, going from long to wide\n",
    "plate_layout = plate_layout.T\n",
    "\n",
    "#renumber columns to match plate\n",
    "plate_layout.columns = list(range(1,13))\n",
    "\n",
    "print(plate_layout)\n",
    "\n",
    "plate_layout.to_excel('plate_layout.xlsx', engine='openpyxl')"
   ]
  }
 ],
 "metadata": {
  "kernelspec": {
   "display_name": "cage37",
   "language": "python",
   "name": "python3"
  },
  "language_info": {
   "codemirror_mode": {
    "name": "ipython",
    "version": 3
   },
   "file_extension": ".py",
   "mimetype": "text/x-python",
   "name": "python",
   "nbconvert_exporter": "python",
   "pygments_lexer": "ipython3",
   "version": "3.7.7"
  }
 },
 "nbformat": 4,
 "nbformat_minor": 2
}
